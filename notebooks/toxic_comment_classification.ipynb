{
 "cells": [
  {
   "cell_type": "markdown",
   "metadata": {},
   "source": [
    "## Toxic Comment Classification\n",
    "\n",
    "Study of negative online behaviour. We need to be able to classify text and discern between different levels of toxicity and disrespectful behaviour - such as like threats, obscenity, insults, and identity-based hate etc"
   ]
  },
  {
   "cell_type": "code",
   "execution_count": 1,
   "metadata": {
    "collapsed": false
   },
   "outputs": [
    {
     "data": {
      "text/html": [
       "<div>\n",
       "<table border=\"1\" class=\"dataframe\">\n",
       "  <thead>\n",
       "    <tr style=\"text-align: right;\">\n",
       "      <th></th>\n",
       "      <th>id</th>\n",
       "      <th>comment_text</th>\n",
       "      <th>toxic</th>\n",
       "      <th>severe_toxic</th>\n",
       "      <th>obscene</th>\n",
       "      <th>threat</th>\n",
       "      <th>insult</th>\n",
       "      <th>identity_hate</th>\n",
       "    </tr>\n",
       "  </thead>\n",
       "  <tbody>\n",
       "    <tr>\n",
       "      <th>159566</th>\n",
       "      <td>ffe987279560d7ff</td>\n",
       "      <td>\":::::And for the second time of asking, when ...</td>\n",
       "      <td>0</td>\n",
       "      <td>0</td>\n",
       "      <td>0</td>\n",
       "      <td>0</td>\n",
       "      <td>0</td>\n",
       "      <td>0</td>\n",
       "    </tr>\n",
       "    <tr>\n",
       "      <th>159567</th>\n",
       "      <td>ffea4adeee384e90</td>\n",
       "      <td>You should be ashamed of yourself \\n\\nThat is ...</td>\n",
       "      <td>0</td>\n",
       "      <td>0</td>\n",
       "      <td>0</td>\n",
       "      <td>0</td>\n",
       "      <td>0</td>\n",
       "      <td>0</td>\n",
       "    </tr>\n",
       "    <tr>\n",
       "      <th>159568</th>\n",
       "      <td>ffee36eab5c267c9</td>\n",
       "      <td>Spitzer \\n\\nUmm, theres no actual article for ...</td>\n",
       "      <td>0</td>\n",
       "      <td>0</td>\n",
       "      <td>0</td>\n",
       "      <td>0</td>\n",
       "      <td>0</td>\n",
       "      <td>0</td>\n",
       "    </tr>\n",
       "    <tr>\n",
       "      <th>159569</th>\n",
       "      <td>fff125370e4aaaf3</td>\n",
       "      <td>And it looks like it was actually you who put ...</td>\n",
       "      <td>0</td>\n",
       "      <td>0</td>\n",
       "      <td>0</td>\n",
       "      <td>0</td>\n",
       "      <td>0</td>\n",
       "      <td>0</td>\n",
       "    </tr>\n",
       "    <tr>\n",
       "      <th>159570</th>\n",
       "      <td>fff46fc426af1f9a</td>\n",
       "      <td>\"\\nAnd ... I really don't think you understand...</td>\n",
       "      <td>0</td>\n",
       "      <td>0</td>\n",
       "      <td>0</td>\n",
       "      <td>0</td>\n",
       "      <td>0</td>\n",
       "      <td>0</td>\n",
       "    </tr>\n",
       "  </tbody>\n",
       "</table>\n",
       "</div>"
      ],
      "text/plain": [
       "                      id                                       comment_text  \\\n",
       "159566  ffe987279560d7ff  \":::::And for the second time of asking, when ...   \n",
       "159567  ffea4adeee384e90  You should be ashamed of yourself \\n\\nThat is ...   \n",
       "159568  ffee36eab5c267c9  Spitzer \\n\\nUmm, theres no actual article for ...   \n",
       "159569  fff125370e4aaaf3  And it looks like it was actually you who put ...   \n",
       "159570  fff46fc426af1f9a  \"\\nAnd ... I really don't think you understand...   \n",
       "\n",
       "        toxic  severe_toxic  obscene  threat  insult  identity_hate  \n",
       "159566      0             0        0       0       0              0  \n",
       "159567      0             0        0       0       0              0  \n",
       "159568      0             0        0       0       0              0  \n",
       "159569      0             0        0       0       0              0  \n",
       "159570      0             0        0       0       0              0  "
      ]
     },
     "metadata": {},
     "output_type": "display_data"
    }
   ],
   "source": [
    "import numpy as np\n",
    "import pandas as pd\n",
    "from IPython.display import display\n",
    "\n",
    "raw_data = pd.read_csv('../data/train.csv', encoding=\"utf-8\")\n",
    "display(raw_data.tail())"
   ]
  },
  {
   "cell_type": "markdown",
   "metadata": {},
   "source": [
    "### Exploring the text data\n",
    "\n",
    "We explore the nature of the text data here"
   ]
  },
  {
   "cell_type": "code",
   "execution_count": 2,
   "metadata": {
    "collapsed": false
   },
   "outputs": [
    {
     "name": "stdout",
     "output_type": "stream",
     "text": [
      "Explanation\n",
      "Why the edits made under my username Hardcore Metallica Fan were reverted? They weren't vandalisms, just closure on some GAs after I voted at New York Dolls FAC. And please don't remove the template from the talk page since I'm retired now.89.205.38.27\n"
     ]
    }
   ],
   "source": [
    "print(raw_data.iloc[0, 1])"
   ]
  },
  {
   "cell_type": "code",
   "execution_count": 3,
   "metadata": {
    "collapsed": false
   },
   "outputs": [
    {
     "name": "stdout",
     "output_type": "stream",
     "text": [
      "D'aww! He matches this background colour I'm seemingly stuck with. Thanks.  (talk) 21:51, January 11, 2016 (UTC)\n"
     ]
    }
   ],
   "source": [
    "print(raw_data.iloc[1, 1])"
   ]
  },
  {
   "cell_type": "code",
   "execution_count": 4,
   "metadata": {
    "collapsed": false
   },
   "outputs": [
    {
     "name": "stdout",
     "output_type": "stream",
     "text": [
      "Hey man, I'm really not trying to edit war. It's just that this guy is constantly removing relevant information and talking to me through edits instead of my talk page. He seems to care more about the formatting than the actual info.\n"
     ]
    }
   ],
   "source": [
    "print(raw_data.iloc[2, 1])"
   ]
  },
  {
   "cell_type": "code",
   "execution_count": 5,
   "metadata": {
    "collapsed": false
   },
   "outputs": [
    {
     "data": {
      "text/html": [
       "<div>\n",
       "<table border=\"1\" class=\"dataframe\">\n",
       "  <thead>\n",
       "    <tr style=\"text-align: right;\">\n",
       "      <th></th>\n",
       "      <th>id</th>\n",
       "      <th>comment_text</th>\n",
       "      <th>toxic</th>\n",
       "      <th>severe_toxic</th>\n",
       "      <th>obscene</th>\n",
       "      <th>threat</th>\n",
       "      <th>insult</th>\n",
       "      <th>identity_hate</th>\n",
       "    </tr>\n",
       "  </thead>\n",
       "  <tbody>\n",
       "    <tr>\n",
       "      <th>6</th>\n",
       "      <td>0002bcb3da6cb337</td>\n",
       "      <td>COCKSUCKER BEFORE YOU PISS AROUND ON MY WORK</td>\n",
       "      <td>1</td>\n",
       "      <td>1</td>\n",
       "      <td>1</td>\n",
       "      <td>0</td>\n",
       "      <td>1</td>\n",
       "      <td>0</td>\n",
       "    </tr>\n",
       "    <tr>\n",
       "      <th>12</th>\n",
       "      <td>0005c987bdfc9d4b</td>\n",
       "      <td>Hey... what is it..\\n@ | talk .\\nWhat is it......</td>\n",
       "      <td>1</td>\n",
       "      <td>0</td>\n",
       "      <td>0</td>\n",
       "      <td>0</td>\n",
       "      <td>0</td>\n",
       "      <td>0</td>\n",
       "    </tr>\n",
       "    <tr>\n",
       "      <th>16</th>\n",
       "      <td>0007e25b2121310b</td>\n",
       "      <td>Bye! \\n\\nDon't look, come or think of comming ...</td>\n",
       "      <td>1</td>\n",
       "      <td>0</td>\n",
       "      <td>0</td>\n",
       "      <td>0</td>\n",
       "      <td>0</td>\n",
       "      <td>0</td>\n",
       "    </tr>\n",
       "    <tr>\n",
       "      <th>42</th>\n",
       "      <td>001810bf8c45bf5f</td>\n",
       "      <td>You are gay or antisemmitian? \\n\\nArchangel WH...</td>\n",
       "      <td>1</td>\n",
       "      <td>0</td>\n",
       "      <td>1</td>\n",
       "      <td>0</td>\n",
       "      <td>1</td>\n",
       "      <td>1</td>\n",
       "    </tr>\n",
       "    <tr>\n",
       "      <th>43</th>\n",
       "      <td>00190820581d90ce</td>\n",
       "      <td>FUCK YOUR FILTHY MOTHER IN THE ASS, DRY!</td>\n",
       "      <td>1</td>\n",
       "      <td>0</td>\n",
       "      <td>1</td>\n",
       "      <td>0</td>\n",
       "      <td>1</td>\n",
       "      <td>0</td>\n",
       "    </tr>\n",
       "  </tbody>\n",
       "</table>\n",
       "</div>"
      ],
      "text/plain": [
       "                  id                                       comment_text  \\\n",
       "6   0002bcb3da6cb337       COCKSUCKER BEFORE YOU PISS AROUND ON MY WORK   \n",
       "12  0005c987bdfc9d4b  Hey... what is it..\\n@ | talk .\\nWhat is it......   \n",
       "16  0007e25b2121310b  Bye! \\n\\nDon't look, come or think of comming ...   \n",
       "42  001810bf8c45bf5f  You are gay or antisemmitian? \\n\\nArchangel WH...   \n",
       "43  00190820581d90ce           FUCK YOUR FILTHY MOTHER IN THE ASS, DRY!   \n",
       "\n",
       "    toxic  severe_toxic  obscene  threat  insult  identity_hate  \n",
       "6       1             1        1       0       1              0  \n",
       "12      1             0        0       0       0              0  \n",
       "16      1             0        0       0       0              0  \n",
       "42      1             0        1       0       1              1  \n",
       "43      1             0        1       0       1              0  "
      ]
     },
     "metadata": {},
     "output_type": "display_data"
    }
   ],
   "source": [
    "toxic_df = raw_data[raw_data['toxic'] > 0]\n",
    "display(toxic_df.head())"
   ]
  },
  {
   "cell_type": "code",
   "execution_count": 6,
   "metadata": {
    "collapsed": false
   },
   "outputs": [
    {
     "name": "stdout",
     "output_type": "stream",
     "text": [
      "COCKSUCKER BEFORE YOU PISS AROUND ON MY WORK\n"
     ]
    }
   ],
   "source": [
    "print(toxic_df.iloc[0, 1])"
   ]
  },
  {
   "cell_type": "code",
   "execution_count": 7,
   "metadata": {
    "collapsed": false
   },
   "outputs": [
    {
     "name": "stdout",
     "output_type": "stream",
     "text": [
      "Hey... what is it..\n",
      "@ | talk .\n",
      "What is it... an exclusive group of some WP TALIBANS...who are good at destroying, self-appointed purist who GANG UP any one who asks them questions abt their ANTI-SOCIAL and DESTRUCTIVE (non)-contribution at WP?\n",
      "\n",
      "Ask Sityush to clean up his behavior than issue me nonsensical warnings...\n"
     ]
    }
   ],
   "source": [
    "print(toxic_df.iloc[1, 1])"
   ]
  },
  {
   "cell_type": "code",
   "execution_count": 8,
   "metadata": {
    "collapsed": false
   },
   "outputs": [
    {
     "name": "stdout",
     "output_type": "stream",
     "text": [
      "Why can't you believe how fat Artie is? Did you see him on his recent appearence on the Tonight Show with Jay Leno? He looks absolutely AWFUL! If I had to put money on it, I'd say that Artie Lange is a can't miss candidate for the 2007 Dead pool!   \n",
      "\n",
      "  \n",
      "Kindly keep your malicious fingers off of my above comment, . Everytime you remove it, I will repost it!!!\n"
     ]
    }
   ],
   "source": [
    "print(toxic_df.iloc[10, 1])"
   ]
  },
  {
   "cell_type": "markdown",
   "metadata": {
    "collapsed": true
   },
   "source": [
    "Having a look at word distributions...and converting to a list data structure with the target list"
   ]
  },
  {
   "cell_type": "code",
   "execution_count": 9,
   "metadata": {
    "collapsed": false
   },
   "outputs": [
    {
     "name": "stdout",
     "output_type": "stream",
     "text": [
      "([u'explanation', u'edits', u'made', u'username', u'hardcore', u'metallica', u'fan', u'reverted', u'?', u\"n't\", u'vandalisms', u',', u'closure', u'gas', u'voted', u'new', u'york', u'dolls', u'fac', u'.', u'please', u\"n't\", u'remove', u'template', u'talk', u'page', u'since', u\"'m\", u'retired', u'now.89.205.38.27'], [0, 0, 0, 0, 0, 0])\n"
     ]
    }
   ],
   "source": [
    "import nltk\n",
    "import random\n",
    "import pickle\n",
    "import re\n",
    "from nltk.tokenize import sent_tokenize, word_tokenize\n",
    "from nltk.corpus import stopwords\n",
    "\n",
    "def word_process(some_text):\n",
    "    stop_words = set(stopwords.words('english'))    \n",
    "    words = word_tokenize(some_text.lower())\n",
    "    \n",
    "    filtered_words = []\n",
    "    for w in words:\n",
    "        if w not in stop_words:\n",
    "            filtered_words.append(w)\n",
    "            \n",
    "    return filtered_words\n",
    "\n",
    "def parse_raw():\n",
    "    documents = []\n",
    "    for index, row in raw_data.iterrows():\n",
    "        text = row['comment_text']\n",
    "        words = word_process(text)\n",
    "        target = list(raw_data.iloc[index,2:])\n",
    "        \n",
    "        documents.append((words, target))\n",
    "\n",
    "    return documents\n",
    "\n",
    "parsed_text = parse_raw()\n",
    "\n",
    "print(parsed_text[0])\n",
    "    "
   ]
  },
  {
   "cell_type": "markdown",
   "metadata": {
    "collapsed": true
   },
   "source": [
    "Let's take a look at some most commonly occuring words..."
   ]
  },
  {
   "cell_type": "code",
   "execution_count": 10,
   "metadata": {
    "collapsed": false
   },
   "outputs": [],
   "source": [
    "# [(['we', 'have', 'list'], [0, 1, 0])]\n",
    "\n",
    "def find_all_words():\n",
    "    words = []\n",
    "    for content, target in parsed_text:\n",
    "        for w in content:\n",
    "            if w.isalpha() == True:\n",
    "                words.append(w)\n",
    "            \n",
    "    return words\n",
    "    \n",
    "all_words = find_all_words()"
   ]
  },
  {
   "cell_type": "code",
   "execution_count": 11,
   "metadata": {
    "collapsed": false
   },
   "outputs": [
    {
     "name": "stdout",
     "output_type": "stream",
     "text": [
      "9370\n",
      "[u'fawn', u'anusance', u'tsukino', u'gai', u'beetlefart', u'scheuring', u'gear\\xf3id', u'bailyite', u'sowell', u'sonja', u'comres', u'devonians', u'vani', u'woods', u'spiders', u'gavan', u'hanging', u'ultimatley', u'woody', u'trawling', u'avsforum', u'comically', u'kalmar', u'localized', u'nordisk', u'regularize', u'disobeying', u'conrtibs', u'priorend', u'rigas', u'eastasia', u'lenca', u'chatter', u'jairam', u'acurately', u'sociopathy', u'supasoldier', u'gab', u'\\u6cb3', u'refunding', u'nibelhiem', u'rickman', u'tenino', u'raasleela', u'hahahah', u'\\u0634\\u0643\\u0644\\u0647\\u0627', u'discribed', u'sidestrand', u'pigment', u'cofinality', u'occops', u'caryopsis', u'snitsky', u'panchakam', u'bringing', u'petras', u'prizing', u'jrpg', u'tcby', u'wcfl', u'wooded', u'distributerd', u'weltherweight', u'timoc', u'kangema', u'wooden', u'kacian', u'wednesday', u'viable', u'circuitry', u'crotch', u'elgar', u'amplifications', u'loblaws', u'syberwolff', u'shows', u'immunities', u'dofficult', u'flemis', u'inkster', u'gormaz', u'sekgathe', u'thrace', u'arachakravarthi', u'distastful', u'generationext', u'zwyke', u'complainers', u'templarion', u'nonrape', u'independantly', u'selassie', u'gorman', u'olcs', u'gwenno', u'informitive', u'prosody', u'tumen', u'inanimate', u'bronte']\n"
     ]
    }
   ],
   "source": [
    "all_words = nltk.FreqDist(all_words)\n",
    "\n",
    "print(all_words['fuck'])\n",
    "\n",
    "print(list(all_words.keys())[:100])"
   ]
  },
  {
   "cell_type": "code",
   "execution_count": 12,
   "metadata": {
    "collapsed": false
   },
   "outputs": [
    {
     "name": "stdout",
     "output_type": "stream",
     "text": [
      "12572\n",
      "[(u'article', 56859), (u'page', 45656), (u'wikipedia', 45418), (u'talk', 35060), (u'would', 30798), (u'please', 29607), (u'one', 28336), (u'like', 27718), (u'see', 21498), (u'also', 20574), (u'think', 20037), (u'know', 18969), (u'people', 18291), (u'edit', 17627), (u'articles', 16424), (u'use', 16330), (u'may', 15557), (u'time', 15352), (u'thanks', 13548), (u'user', 13451), (u'even', 13394), (u'get', 13359), (u'make', 12939), (u'could', 12792), (u'good', 12572), (u'information', 12056), (u'want', 11598), (u'well', 11443), (u'sources', 11192), (u'way', 11145), (u'name', 11000), (u'deletion', 10878), (u'first', 10774), (u'help', 10618), (u'pages', 10607), (u'new', 10511), (u'wp', 10481), (u'source', 10261), (u'image', 10226), (u'need', 10188), (u'go', 10183), (u'say', 10081), (u'section', 9991), (u'editing', 9908), (u'edits', 9860), (u'thank', 9817), (u'made', 9567), (u'many', 9531), (u'much', 9424), (u'fuck', 9370)]\n"
     ]
    }
   ],
   "source": [
    "print(all_words['good'])\n",
    "print(all_words.most_common(50))"
   ]
  },
  {
   "cell_type": "code",
   "execution_count": 13,
   "metadata": {
    "collapsed": false
   },
   "outputs": [
    {
     "data": {
      "image/png": "[encoded data removed]",
      "text/plain": [
       "<matplotlib.figure.Figure at 0x14308e3d0>"
      ]
     },
     "metadata": {},
     "output_type": "display_data"
    }
   ],
   "source": [
    "import matplotlib.pyplot as plt                        \n",
    "%matplotlib inline\n",
    "\n",
    "all_words_top_50 = all_words.most_common(50)[:10]\n",
    "\n",
    "x_pos = np.arange(len(zip(*all_words_top_50)[0]))\n",
    "\n",
    "plt.plot(x_pos)\n",
    "plt.bar(x_pos, zip(*all_words_top_50)[1])\n",
    "plt.xticks(x_pos, zip(*all_words_top_50)[0])\n",
    "plt.ylabel('Occurrences')\n",
    "plt.show()\n"
   ]
  },
  {
   "cell_type": "code",
   "execution_count": 14,
   "metadata": {
    "collapsed": false
   },
   "outputs": [
    {
     "name": "stdout",
     "output_type": "stream",
     "text": [
      "[u'cocksucker', u'piss', u'around', u'work', u'hey', u'talk', u'exclusive', u'group', u'wp', u'talibans', u'good', u'destroying', u'purist', u'gang', u'one', u'asks', u'questions', u'abt', u'destructive', u'non', u'wp', u'ask', u'sityush', u'clean', u'behavior', u'issue', u'nonsensical', u'warnings', u'bye', u'look']\n"
     ]
    }
   ],
   "source": [
    "def find_all_words_toxic():\n",
    "    words = []\n",
    "    comparison = [0, 0, 0, 0, 0, 0]\n",
    "    for content, target in parsed_text:\n",
    "        if target != comparison:\n",
    "            for w in content:\n",
    "                if w.isalpha() == True:\n",
    "                    words.append(w)\n",
    "            \n",
    "    return words\n",
    "    \n",
    "toxic_words = find_all_words_toxic()\n",
    "\n",
    "print(toxic_words[:30])"
   ]
  },
  {
   "cell_type": "code",
   "execution_count": 15,
   "metadata": {
    "collapsed": false
   },
   "outputs": [
    {
     "name": "stdout",
     "output_type": "stream",
     "text": [
      "[(u'fuck', 9293), (u'like', 3775), (u'shit', 3646), (u'wikipedia', 3618), (u'nigger', 3296), (u'suck', 3239), (u'fucking', 3232), (u'go', 2953), (u'ass', 2939), (u'u', 2677), (u'hate', 2636), (u'get', 2434), (u'page', 2352), (u'know', 2348), (u'gay', 2245), (u'die', 2140), (u'people', 2055), (u'faggot', 2019), (u'fat', 1977), (u'moron', 1878), (u'bitch', 1817), (u'hi', 1712), (u'one', 1664), (u'article', 1552), (u'cunt', 1550), (u'stop', 1494), (u'talk', 1482), (u'stupid', 1474), (u'sucks', 1444), (u'think', 1394), (u'user', 1385), (u'pig', 1352), (u'jew', 1349), (u'want', 1305), (u'would', 1274), (u'dick', 1235), (u'wiki', 1185), (u'time', 1170), (u'bullshit', 1156), (u'block', 1143), (u'even', 1135), (u'life', 1120), (u'dont', 1070), (u'asshole', 1051), (u'make', 1050), (u'wanker', 1035), (u'see', 1034), (u'edit', 1031), (u'please', 1029), (u'right', 1018)]\n"
     ]
    },
    {
     "data": {
      "image/png": "[encoded data removed]",
      "text/plain": [
       "<matplotlib.figure.Figure at 0x144cf4bd0>"
      ]
     },
     "metadata": {},
     "output_type": "display_data"
    }
   ],
   "source": [
    "toxic_words = nltk.FreqDist(toxic_words)\n",
    "\n",
    "toxic_words_top_50 = toxic_words.most_common(50)\n",
    "\n",
    "print(toxic_words_top_50)\n",
    "\n",
    "toxic_words_top_50 = toxic_words.most_common(50)[:10]\n",
    "\n",
    "x_pos = np.arange(len(zip(*toxic_words_top_50)[0]))\n",
    "\n",
    "plt.plot(x_pos)\n",
    "plt.bar(x_pos, zip(*toxic_words_top_50)[1])\n",
    "plt.xticks(x_pos, zip(*toxic_words_top_50)[0])\n",
    "plt.ylabel('Occurrences')\n",
    "plt.show()\n"
   ]
  },
  {
   "cell_type": "markdown",
   "metadata": {},
   "source": [
    "Over here we build a feature extractor, then split into training and testing sets"
   ]
  },
  {
   "cell_type": "code",
   "execution_count": 2,
   "metadata": {
    "collapsed": false
   },
   "outputs": [
    {
     "name": "stdout",
     "output_type": "stream",
     "text": [
      "The scikit-learn version is 0.19.0.\n"
     ]
    }
   ],
   "source": [
    "# should we keep shuffling the data?\n",
    "# use #TF-IDF, #Bag of words, #Doc2Vec, #word2vec, first try with unigrams, then bigrams and then trigrams\n",
    "# Use naive bayes on those feature extractors\n",
    "import pickle\n",
    "import sklearn\n",
    "print('The scikit-learn version is {}.'.format(sklearn.__version__))\n",
    "from sklearn.feature_extraction.text import CountVectorizer\n",
    "from sklearn.feature_extraction.text import TfidfTransformer\n",
    "from sklearn.model_selection import train_test_split\n",
    "\n",
    "class FeatureExtractor(object):\n",
    "    def __init__(self, dataframe, ngram):\n",
    "        self._dataframe = dataframe\n",
    "        self._ngram = ngram\n",
    "        \n",
    "    def prepare_data(self):\n",
    "        documents = []\n",
    "        targets = []\n",
    "        for index, row in self._dataframe.iterrows():\n",
    "            text = row['comment_text']\n",
    "            # target = list(self._dataframe.iloc[index,2:])\n",
    "            documents.append(text)\n",
    "            if int(row['toxic']) == 1:\n",
    "                targets.append(1)\n",
    "            else:\n",
    "                targets.append(0)\n",
    "            \n",
    "        return documents, np.array(targets)\n",
    "    \n",
    "    def train_test_split(self, docs, targets):\n",
    "        split_point = int(round(len(docs) * 0.75, 0))\n",
    "        return docs[:split_point], targets[:split_point], docs[split_point:], targets[split_point:]\n",
    "        \n",
    "    def vectorize_tf_idf(self):\n",
    "        count_vectorizer = CountVectorizer()\n",
    "        docs, targets = self.prepare_data()\n",
    "                \n",
    "        freq_term_matrix = count_vectorizer.fit_transform(docs)        \n",
    "        tfidf = TfidfTransformer(norm=\"l2\")\n",
    "        tfidf.fit(freq_term_matrix)\n",
    "        tf_idf_matrix = tfidf.transform(freq_term_matrix)\n",
    "        return tf_idf_matrix.todense(), targets\n",
    "        "
   ]
  },
  {
   "cell_type": "code",
   "execution_count": 3,
   "metadata": {
    "collapsed": false
   },
   "outputs": [
    {
     "name": "stdout",
     "output_type": "stream",
     "text": [
      "done processing\n"
     ]
    }
   ],
   "source": [
    "feature_extractor = FeatureExtractor(raw_data, 1)\n",
    "features, targets = feature_extractor.vectorize_tf_idf()\n",
    "\n",
    "tfidf_features_train_1, tfidf_targets_train_1, tfidf_features_test_1, tfidf_targets_test_1 = feature_extractor.train_test_split(features, targets)        \n",
    "print('done processing')"
   ]
  },
  {
   "cell_type": "code",
   "execution_count": 4,
   "metadata": {
    "collapsed": false
   },
   "outputs": [
    {
     "name": "stdout",
     "output_type": "stream",
     "text": [
      "(159571, 189765)\n",
      "(159571,)\n",
      "[0 0 0 0 0 0 1 0 0 0 0 0 1 0 0 0 1 0 0 0 0 0 0 0 0 0 0 0 0 0]\n"
     ]
    }
   ],
   "source": [
    "'''\n",
    "with open('pickles/tfidf_dataset_1', 'wb') as file_pi:\n",
    "        pickle.dump({'X_train':tfidf_features_train_1, 'X_test':tfidf_targets_train_1, \n",
    "                     'y_train':tfidf_features_test_1, 'y_test':tfidf_targets_test_1}, file_pi)\n",
    "\n",
    "print('done')\n",
    "'''\n",
    "print(features.shape)\n",
    "print(targets.shape)\n",
    "print(targets[:30])"
   ]
  },
  {
   "cell_type": "code",
   "execution_count": 5,
   "metadata": {
    "collapsed": false
   },
   "outputs": [],
   "source": [
    "# Try with one type of classifer first to see the results\n",
    "# use Naive Bayes first\n",
    "import pickle\n",
    "from sklearn.metrics import f1_score\n",
    "from sklearn.metrics import precision_score\n",
    "from sklearn.metrics import recall_score\n",
    "from sklearn.metrics import accuracy_score\n",
    "\n",
    "class ToxicCommentClassifier(object):\n",
    "    def __init__(self, model, X_train, X_test, y_train, y_test):\n",
    "        self._model = model\n",
    "        self._classifier = None\n",
    "        self._X_train = X_train\n",
    "        self._X_test = X_test\n",
    "        self._y_train = y_train\n",
    "        self._y_test = y_test\n",
    "        \n",
    "    def fit_classifier(self):\n",
    "        print('fit')\n",
    "        self._classifier = self._model()\n",
    "        self._classifier.fit(self._X_train[:1000], self._X_test[:1000])\n",
    "        print('done fitting')\n",
    "        \n",
    "    def predict(self, X):\n",
    "        prediction = self._classifier.predict(X)\n",
    "        return prediction\n",
    "        \n",
    "    def fine_tune(self):\n",
    "        # perform some gridsearch here\n",
    "        return None\n",
    "    \n",
    "    def evaluate(self):\n",
    "        print('evaluate')\n",
    "        predictions = []\n",
    "        for y in self._y_train[:250]:\n",
    "            result = self.predict(y)\n",
    "            predictions.append(result)\n",
    "        \n",
    "        print(predictions[:30])\n",
    "        \n",
    "        # recall = recall_score(self._y_test, np.array(predictions).astype(int), average='weighted')\n",
    "        # precision = precision_score(self._y_test, np.array(predictions).astype(int), average='weighted')\n",
    "        # f1 = f1_score(self._y_test, np.array(predictions).astype(int), average='weighted')\n",
    "        \n",
    "        return accuracy_score(self._y_test[:250], predictions)\n",
    "        "
   ]
  },
  {
   "cell_type": "code",
   "execution_count": 6,
   "metadata": {
    "collapsed": false
   },
   "outputs": [
    {
     "name": "stdout",
     "output_type": "stream",
     "text": [
      "fit\n",
      "done fitting\n",
      "evaluate\n",
      "[array([0]), array([0]), array([0]), array([0]), array([0]), array([0]), array([0]), array([0]), array([0]), array([1]), array([0]), array([0]), array([0]), array([0]), array([0]), array([0]), array([0]), array([0]), array([0]), array([0]), array([0]), array([0]), array([0]), array([0]), array([0]), array([0]), array([0]), array([0]), array([0]), array([0])]\n",
      "0.904\n"
     ]
    }
   ],
   "source": [
    "from sklearn.naive_bayes import GaussianNB\n",
    "\n",
    "toxic_classifier = ToxicCommentClassifier(GaussianNB, tfidf_features_train_1, tfidf_targets_train_1, tfidf_features_test_1, tfidf_targets_test_1)\n",
    "toxic_classifier.fit_classifier()\n",
    "accuracy = toxic_classifier.evaluate()\n",
    "\n",
    "#print(recall)\n",
    "#print(precision)\n",
    "print(accuracy)\n",
    "\n",
    "# TODO: this has become a binary classification problem, is the comment toxic or not\n",
    "# Need to do partial fitting since the data set is too huge to train, it crashes the kernel"
   ]
  },
  {
   "cell_type": "code",
   "execution_count": null,
   "metadata": {
    "collapsed": true
   },
   "outputs": [],
   "source": []
  }
 ],
 "metadata": {
  "kernelspec": {
   "display_name": "Python 2",
   "language": "python",
   "name": "python2"
  },
  "language_info": {
   "codemirror_mode": {
    "name": "ipython",
    "version": 2
   },
   "file_extension": ".py",
   "mimetype": "text/x-python",
   "name": "python",
   "nbconvert_exporter": "python",
   "pygments_lexer": "ipython2",
   "version": "2.7.11"
  }
 },
 "nbformat": 4,
 "nbformat_minor": 0
}
